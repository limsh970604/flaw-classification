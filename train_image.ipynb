{
 "cells": [
  {
   "cell_type": "code",
   "execution_count": null,
   "metadata": {},
   "outputs": [],
   "source": [
    "import os\n",
    "import cv2\n",
    "import numpy as np\n",
    "from matplotlib import pyplot as plt\n",
    "import random\n",
    "%matplotlib inline"
   ]
  },
  {
   "cell_type": "code",
   "execution_count": null,
   "metadata": {},
   "outputs": [],
   "source": [
    "# train_label 폴더 경로\n",
    "train_label_dir = \"C:/vscode/flaw classification/train_label\""
   ]
  },
  {
   "cell_type": "code",
   "execution_count": null,
   "metadata": {},
   "outputs": [],
   "source": [
    "LABEL_NAMES = [\n",
    "    \"가구수정\",\n",
    "    \"걸레받이수정\",\n",
    "    \"곰팡이\",\n",
    "    \"꼬임\",\n",
    "    \"녹오염\",\n",
    "    \"들뜸\",\n",
    "    \"면불량\",\n",
    "    \"몰딩수정\",\n",
    "    \"반점\",\n",
    "    \"석고수정\",\n",
    "    \"오염\",\n",
    "    \"오타공\",\n",
    "    \"울음\",\n",
    "    \"이음부불량\",\n",
    "    \"창틀,문틀수정\",\n",
    "    \"터짐\",\n",
    "    \"틈새과다\",\n",
    "    \"피스\",\n",
    "    \"훼손\"\n",
    "]"
   ]
  },
  {
   "cell_type": "code",
   "execution_count": null,
   "metadata": {},
   "outputs": [],
   "source": [
    "# 각 라벨별 파일 개수 계산\n",
    "file_counts = []\n",
    "for i in range(19):\n",
    "    # 라벨에 속하는 폴더 경로\n",
    "    label_dir = os.path.join(train_label_dir, str(i))\n",
    "    # 폴더 내의 파일 개수 계산\n",
    "    file_count = len([f for f in os.listdir(label_dir) if f.endswith('.png')])\n",
    "    file_counts.append(file_count)\n",
    "\n",
    "# 막대 그래프로 시각화\n",
    "x = np.arange(19)\n",
    "plt.bar(x, file_counts)\n",
    "plt.xticks(x, LABEL_NAMES, rotation='vertical')\n",
    "plt.ylabel('Number of Files')\n",
    "plt.show()"
   ]
  },
  {
   "cell_type": "code",
   "execution_count": null,
   "metadata": {},
   "outputs": [],
   "source": [
    "# 각 라벨에 속하는 이미지 중에서 랜덤으로 3장 보여주기\n",
    "for i in range(19):\n",
    "    # 라벨에 속하는 폴더 경로\n",
    "    label_dir = os.path.join(train_label_dir, str(i))\n",
    "    # 폴더 내의 이미지 파일 경로\n",
    "    img_paths = [os.path.join(label_dir, f) for f in os.listdir(label_dir) if f.endswith('.png')]\n",
    "    # 라벨 번호와 해당 라벨의 한글 이름 출력\n",
    "    print(\"Label {}: {}\".format(i, LABEL_NAMES[i]))\n",
    "    # 랜덤으로 4개의 이미지 선택하여 보여주기\n",
    "    img_sample = random.sample(img_paths, 3)\n",
    "    fig, axs = plt.subplots(1, 3, figsize=(15, 5))\n",
    "    for k in range(3):\n",
    "        img = cv2.imread(img_sample[k])\n",
    "        axs[k].imshow(cv2.cvtColor(img, cv2.COLOR_BGR2RGB))\n",
    "    plt.show()"
   ]
  },
  {
   "cell_type": "code",
   "execution_count": null,
   "metadata": {},
   "outputs": [],
   "source": [
    "def binary_threshold(img):\n",
    "    gray = cv2.cvtColor(img, cv2.COLOR_BGR2GRAY)\n",
    "    _, binary = cv2.threshold(gray, 0, 255, cv2.THRESH_BINARY + cv2.THRESH_OTSU)\n",
    "    return binary"
   ]
  },
  {
   "cell_type": "code",
   "execution_count": null,
   "metadata": {},
   "outputs": [],
   "source": [
    "def canny_edge_detection(img):\n",
    "    binary = binary_threshold(img)\n",
    "    canny = cv2.Canny(binary, 50, 150)\n",
    "    return canny\n",
    "\n",
    "def sobel_operator(img):\n",
    "    binary = binary_threshold(img)\n",
    "    sobelx = cv2.Sobel(binary, cv2.CV_64F, 1, 0, ksize=5)\n",
    "    sobely = cv2.Sobel(binary, cv2.CV_64F, 0, 1, ksize=5)\n",
    "    sobel = np.hypot(sobelx, sobely)\n",
    "    sobel = np.uint8(sobel)\n",
    "    return sobel\n",
    "\n",
    "def laplacian_of_gaussian(img):\n",
    "    binary = binary_threshold(img)\n",
    "    laplacian = cv2.Laplacian(binary, cv2.CV_64F)\n",
    "    laplacian_8u = np.uint8(np.absolute(laplacian))\n",
    "    return laplacian_8u"
   ]
  },
  {
   "cell_type": "code",
   "execution_count": null,
   "metadata": {},
   "outputs": [],
   "source": [
    "# 각 라벨에 속하는 이미지 중에서 랜덤으로 3장 보여주기\n",
    "for i in range(19):\n",
    "    # 라벨에 속하는 폴더 경로\n",
    "    label_dir = os.path.join(train_label_dir, str(i))\n",
    "    # 폴더 내의 이미지 파일 경로\n",
    "    img_paths = [os.path.join(label_dir, f) for f in os.listdir(label_dir) if f.endswith('.png')]\n",
    "    # 라벨 번호와 해당 라벨의 한글 이름 출력\n",
    "    print(\"Label {}: {}\".format(i, LABEL_NAMES[i]))\n",
    "    # 랜덤으로 4개의 이미지 선택하여 보여주기\n",
    "    img_sample = random.sample(img_paths, 3)\n",
    "    fig, axs = plt.subplots(3, 5, figsize=(25, 10))\n",
    "    for k in range(3):\n",
    "        img = cv2.imread(img_sample[k])\n",
    "        binary = binary_threshold(img)\n",
    "        canny = canny_edge_detection(img)\n",
    "        sobel = sobel_operator(img)\n",
    "        log = laplacian_of_gaussian(img)\n",
    "        \n",
    "        axs[k, 0].imshow(cv2.cvtColor(img, cv2.COLOR_BGR2RGB))\n",
    "        axs[k, 0].set_title('Original Image')\n",
    "        \n",
    "        axs[k, 1].imshow(binary, cmap='gray')\n",
    "        axs[k, 1].set_title('Binary Image')\n",
    "        \n",
    "        axs[k, 2].imshow(canny, cmap='gray')\n",
    "        axs[k, 2].set_title('Canny Edge Detection')\n",
    "        \n",
    "        axs[k, 3].imshow(sobel, cmap='gray')\n",
    "        axs[k, 3].set_title('Sobel Operator')\n",
    "        \n",
    "        axs[k, 4].imshow(log, cmap='gray')\n",
    "        axs[k, 4].set_title('Laplacian of Gaussian')\n",
    "\n",
    "    for ax in axs.flat:\n",
    "        ax.label_outer()\n",
    "    plt.show()\n"
   ]
  }
 ],
 "metadata": {
  "kernelspec": {
   "display_name": "seonghwan_home",
   "language": "python",
   "name": "python3"
  },
  "language_info": {
   "codemirror_mode": {
    "name": "ipython",
    "version": 3
   },
   "file_extension": ".py",
   "mimetype": "text/x-python",
   "name": "python",
   "nbconvert_exporter": "python",
   "pygments_lexer": "ipython3",
   "version": "3.9.13"
  },
  "orig_nbformat": 4
 },
 "nbformat": 4,
 "nbformat_minor": 2
}
