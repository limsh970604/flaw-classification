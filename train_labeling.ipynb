{
 "cells": [
  {
   "cell_type": "code",
   "execution_count": 1,
   "metadata": {},
   "outputs": [],
   "source": [
    "import os\n",
    "import shutil"
   ]
  },
  {
   "cell_type": "code",
   "execution_count": 5,
   "metadata": {},
   "outputs": [],
   "source": [
    "# train 폴더 경로\n",
    "train_dir = \"C:/vscode/flaw classification/train\"\n",
    "\n",
    "# train_label 폴더 경로\n",
    "train_label_dir = \"C:/vscode/flaw classification/train_label\"\n",
    "\n",
    "# train_label 폴더가 없으면 생성\n",
    "if not os.path.exists(train_label_dir):\n",
    "    os.mkdir(train_label_dir)"
   ]
  },
  {
   "cell_type": "code",
   "execution_count": 7,
   "metadata": {},
   "outputs": [],
   "source": [
    "# 폴더 이름 변경 후 train_label에 복사\n",
    "if not os.path.exists(train_label_dir):\n",
    "    for i, folder_name in enumerate(os.listdir(train_dir)):\n",
    "        # 폴더 이름 변경\n",
    "        os.rename(os.path.join(train_dir, folder_name), os.path.join(train_dir, str(i)))\n",
    "        # 변경된 폴더를 train_label에 복사\n",
    "        shutil.copytree(os.path.join(train_dir, str(i)), os.path.join(train_label_dir, str(i)))"
   ]
  }
 ],
 "metadata": {
  "kernelspec": {
   "display_name": "seonghwan_home",
   "language": "python",
   "name": "python3"
  },
  "language_info": {
   "codemirror_mode": {
    "name": "ipython",
    "version": 3
   },
   "file_extension": ".py",
   "mimetype": "text/x-python",
   "name": "python",
   "nbconvert_exporter": "python",
   "pygments_lexer": "ipython3",
   "version": "3.8.16"
  },
  "orig_nbformat": 4
 },
 "nbformat": 4,
 "nbformat_minor": 2
}
